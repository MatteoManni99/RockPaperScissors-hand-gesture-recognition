{
 "cells": [
  {
   "cell_type": "markdown",
   "id": "dfeb53da",
   "metadata": {},
   "source": [
    "# Data Augmentation"
   ]
  },
  {
   "cell_type": "code",
   "execution_count": 30,
   "id": "3248351e",
   "metadata": {},
   "outputs": [],
   "source": [
    "import cv2\n",
    "# Load the image\n",
    "img = cv2.imread('C:/Users/matte/RockPaperScissorsData/RawDataSet/paper/0a3UtNzl5Ll3sq8K.png')\n",
    "\n",
    "# Define the padding values (in pixels)\n",
    "top = 50\n",
    "bottom = 50\n",
    "left = 0\n",
    "right = 0\n",
    "\n",
    "# Add padding to the image using copyMakeBorder\n",
    "img_with_padding = cv2.copyMakeBorder(img, top, bottom, left, right, cv2.BORDER_CONSTANT, value = (41, 130, 41))"
   ]
  },
  {
   "cell_type": "code",
   "execution_count": 4,
   "id": "a41b1394",
   "metadata": {},
   "outputs": [],
   "source": [
    "import os\n",
    "import cv2\n",
    "\n",
    "# Define the padding values (in pixels)\n",
    "top = 50\n",
    "bottom = 50\n",
    "left = 0\n",
    "right = 0\n",
    "\n",
    "for gesture in ['paper', 'rock', 'scissors']:\n",
    "    input_dir = \"C:/Users/matte/RockPaperScissorsData/RawDataSet/\" + gesture\n",
    "    output_dir = \"C:/Users/matte/RockPaperScissorsData/AugmentedDataset/\" + gesture\n",
    "    \n",
    "    # Loop through all the files in the input directory\n",
    "    for filename in os.listdir(input_dir):\n",
    "        \n",
    "        # Read the image file using OpenCV\n",
    "        img = cv2.imread(os.path.join(input_dir, filename))\n",
    "\n",
    "        # Modify the image as desired\n",
    "        img_with_padding = cv2.copyMakeBorder(img, top, bottom, left, right, cv2.BORDER_CONSTANT, value = (41, 130, 41))\n",
    "        \n",
    "        rotated_img1 = cv2.rotate(img_with_padding, cv2.ROTATE_90_CLOCKWISE)\n",
    "        rotated_img2 = cv2.rotate(rotated_img1, cv2.ROTATE_90_CLOCKWISE)\n",
    "        rotated_img3 = cv2.rotate(rotated_img2, cv2.ROTATE_90_CLOCKWISE)\n",
    "\n",
    "        # Create the output filename\n",
    "        filename1 = filename[:-4] + '_rotated1.png'\n",
    "        filename2 = filename[:-4] + '_rotated2.png'\n",
    "        filename3 = filename[:-4] + '_rotated3.png'\n",
    "\n",
    "        # Save the modified image to the output directory\n",
    "        cv2.imwrite(os.path.join(output_dir, filename), img_with_padding)\n",
    "        cv2.imwrite(os.path.join(output_dir, filename1), rotated_img1)\n",
    "        cv2.imwrite(os.path.join(output_dir, filename2), rotated_img2)\n",
    "        cv2.imwrite(os.path.join(output_dir, filename3), rotated_img3)"
   ]
  }
 ],
 "metadata": {
  "kernelspec": {
   "display_name": "Python 3 (ipykernel)",
   "language": "python",
   "name": "python3"
  },
  "language_info": {
   "codemirror_mode": {
    "name": "ipython",
    "version": 3
   },
   "file_extension": ".py",
   "mimetype": "text/x-python",
   "name": "python",
   "nbconvert_exporter": "python",
   "pygments_lexer": "ipython3",
   "version": "3.9.13"
  }
 },
 "nbformat": 4,
 "nbformat_minor": 5
}
